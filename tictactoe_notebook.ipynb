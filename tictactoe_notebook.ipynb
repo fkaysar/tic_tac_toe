{
 "cells": [
  {
   "cell_type": "code",
   "execution_count": null,
   "metadata": {},
   "outputs": [],
   "source": [
    "def choose_symb_1():\n",
    "    symb = input('Dear player 1, choose and input your symbol (i.e. x or o): ')\n",
    "    print(f'Player 1 has chosen: {symb}')\n",
    "    return symb"
   ]
  },
  {
   "cell_type": "code",
   "execution_count": null,
   "metadata": {},
   "outputs": [],
   "source": [
    "x = choose_symb_1()\n",
    "x"
   ]
  },
  {
   "cell_type": "code",
   "execution_count": null,
   "metadata": {},
   "outputs": [],
   "source": [
    "playing_board = {1:1, 2:2, 3:3, 4:4, 5:5, 6:6, 7:7, 8:8, 9:9}\n",
    "playing_board[1] = 'x'\n",
    "l = list(playing_board.values())\n",
    "l\n",
    "print(3 in l)"
   ]
  },
  {
   "cell_type": "code",
   "execution_count": null,
   "metadata": {},
   "outputs": [],
   "source": [
    "pb = {1:1, 2:2, 3:3, 4:'x', 5:5, 6:6, 7:'o', 8:8, 9:9}\n",
    "pb_l = list(pb.values())\n",
    "print(f'{pb_l[0]} {pb_l[1]} {pb_l[2]} \\n{pb_l[3]} {pb_l[4]} {pb_l[5]} \\n{pb_l[6]} {pb_l[7]} {pb_l[8]}')"
   ]
  },
  {
   "cell_type": "code",
   "execution_count": null,
   "metadata": {},
   "outputs": [],
   "source": [
    "letter = '1'\n",
    "type(letter)"
   ]
  },
  {
   "cell_type": "code",
   "execution_count": null,
   "metadata": {},
   "outputs": [],
   "source": [
    "i = int(letter)\n",
    "type(i)"
   ]
  },
  {
   "cell_type": "code",
   "execution_count": null,
   "metadata": {},
   "outputs": [],
   "source": [
    "while True:\n",
    "    inp = input('input symbol: ')\n",
    "    try:\n",
    "        int(inp)\n",
    "        print('please enter a letter...')\n",
    "    except:\n",
    "        print(f'Player chose the symbol: {inp}')\n",
    "        break"
   ]
  },
  {
   "cell_type": "code",
   "execution_count": 31,
   "metadata": {},
   "outputs": [
    {
     "name": "stdout",
     "output_type": "stream",
     "text": [
      "o o o \n",
      "7 t x \n",
      "7 8 9\n"
     ]
    }
   ],
   "source": [
    "pb = {1:'o', 2:'o', 3:'o', 4:'7', 5:'t', 6:'x', 7:'7', 8:'8', 9:'9'}\n",
    "pb_l = list(pb.values())\n",
    "print(f'{pb_l[0]} {pb_l[1]} {pb_l[2]} \\n{pb_l[3]} {pb_l[4]} {pb_l[5]} \\n{pb_l[6]} {pb_l[7]} {pb_l[8]}')"
   ]
  },
  {
   "cell_type": "code",
   "execution_count": 32,
   "metadata": {},
   "outputs": [
    {
     "name": "stdout",
     "output_type": "stream",
     "text": [
      "Player 2 has won! Check top row\n"
     ]
    }
   ],
   "source": [
    "symbols = ['x', 'o']\n",
    "def check_for_win(pb_l):\n",
    "    for i in pb_l:\n",
    "        if all([pb_l[0] in symbols, pb_l[1] in symbols, pb_l[2] in symbols]): # top row horizontal\n",
    "            if pb_l[0] == symbols[0]:\n",
    "                print('Player 1 has won! Check top row')\n",
    "            else:\n",
    "                print('Player 2 has won! Check top row')\n",
    "            break\n",
    "        elif all([pb_l[3] in symbols, pb_l[4] in symbols, pb_l[5] in symbols]): # middle row horizontal\n",
    "            if pb_l[3] == symbols[0]:\n",
    "                print('Player 1 has won! Check middle row')\n",
    "            else:\n",
    "                print('Player 2 has won! Check middle row')\n",
    "            break\n",
    "        elif all([pb_l[6] in symbols, pb_l[7] in symbols, pb_l[8] in symbols]): # bottom row horizontal\n",
    "            if pb_l[6] == symbols[0]:\n",
    "                print('Player 1 has won! Check bottom row')\n",
    "            else:\n",
    "                print('Player 2 has won!')\n",
    "            break\n",
    "        elif all([pb_l[0] in symbols, pb_l[3] in symbols, pb_l[6] in symbols]): # left column\n",
    "            if pb_l[0] == symbols[0]:\n",
    "                print('Player 1 has won! Check left column')\n",
    "            else:\n",
    "                print('Player 2 has won! Check left column')\n",
    "            break\n",
    "        elif all([pb_l[1] in symbols, pb_l[4] in symbols, pb_l[7] in symbols]): # middle column\n",
    "            if pb_l[1] == symbols[0]:\n",
    "                print('Player 1 has won! Check middle column')\n",
    "            else:\n",
    "                print('Player 2 has won! Check middle column')\n",
    "            break\n",
    "        elif all([pb_l[2] in symbols, pb_l[5] in symbols, pb_l[8] in symbols]): # right column\n",
    "            if pb_l[2] == symbols[0]:\n",
    "                print('Player 1 has won! Check right column')\n",
    "            else:\n",
    "                print('Player 2 has won! Check right column')\n",
    "            break\n",
    "        elif all([pb_l[0] in symbols, pb_l[4] in symbols, pb_l[8] in symbols]): # vertical top left to bottom right\n",
    "            if pb_l[0] == symbols[0]:\n",
    "                print('Player 1 has won! Check vertical, top left to bottom right')\n",
    "            else:\n",
    "                print('Player 2 has won!Check vertical, top left to bottom right')\n",
    "            break\n",
    "        elif all([pb_l[2] in symbols, pb_l[4] in symbols, pb_l[6] in symbols]): # vertical top right to bottom left\n",
    "            if pb_l[2] == symbols[0]:\n",
    "                print('Player 1 has won! Check vertical, vertical top right to bottom left')\n",
    "            else:\n",
    "                print('Player 2 has won! Check vertical, vertical top right to bottom left')\n",
    "            break"
   ]
  }
 ],
 "metadata": {
  "kernelspec": {
   "display_name": "Python 3.9.13 ('nf_base')",
   "language": "python",
   "name": "python3"
  },
  "language_info": {
   "codemirror_mode": {
    "name": "ipython",
    "version": 3
   },
   "file_extension": ".py",
   "mimetype": "text/x-python",
   "name": "python",
   "nbconvert_exporter": "python",
   "pygments_lexer": "ipython3",
   "version": "3.9.13"
  },
  "orig_nbformat": 4,
  "vscode": {
   "interpreter": {
    "hash": "ab3d85a18739f6fff6a9c8c504adc2ff9340867b576dede986e2ee74c099e4e5"
   }
  }
 },
 "nbformat": 4,
 "nbformat_minor": 2
}
